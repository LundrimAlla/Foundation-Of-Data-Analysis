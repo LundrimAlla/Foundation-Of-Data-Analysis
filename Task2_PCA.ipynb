{
 "cells": [
  {
   "cell_type": "markdown",
   "id": "2966d28c-a377-4e6b-ae54-5a873e5925dd",
   "metadata": {},
   "source": [
    "# Task 2 - Dimensionality Reduction (29 points)"
   ]
  },
  {
   "cell_type": "code",
   "execution_count": 2,
   "id": "a1c8d295a5346c9",
   "metadata": {
    "jupyter": {
     "outputs_hidden": false
    }
   },
   "outputs": [],
   "source": [
    "# TODO: uncomment the packages you used, please do not import additional non-native packages\n",
    "# You may change the imports to the following format: from [package] import [class, method, etc.]\n",
    "\n",
    "import matplotlib.pyplot as plt\n",
    "import numpy as np\n",
    "import seaborn as sns\n",
    "import sklearn"
   ]
  },
  {
   "cell_type": "markdown",
   "id": "e747ab1b-291e-462d-a71b-fe9627947b08",
   "metadata": {},
   "source": [
    "## 2.1 PCA Implementation (13.5 points)\n",
    "### a) Implement PCA from scratch without using SVD. (10.5 points)\n",
    "\n",
    "Use the template below and solve the questions stated in TODOs. You may use numpy functions if not stated otherwise.\n",
    "\n",
    "Project the dataset `X` onto the first `n_components` Principal Components. The algorithm should work for any dataset with dimensionality >= 2.\n",
    "\n",
    "Please do not change the name of the variables and make sure to save your results in those."
   ]
  },
  {
   "cell_type": "code",
   "execution_count": 3,
   "id": "b80dbf65-1826-4546-b63c-09aa54f69c44",
   "metadata": {},
   "outputs": [],
   "source": [
    "import numpy as np\n",
    "\n",
    "class PCA_from_scratch:\n",
    "    def __init__(self, n_components:int):\n",
    "        self.n_components = n_components\n",
    "        self.X_centred = None\n",
    "        self.eigenvalues = None\n",
    "        self.eigenvectors = None\n",
    "        self.explained_variance_ratio = None\n",
    "        self.X_new = None\n",
    "\n",
    "    def fit_transform(self, X):        \n",
    "        # Center the dataset on the origin\n",
    "        self.X_centred = X - np.mean(X, axis=0)\n",
    "    \n",
    "        # Calculate the covariance matrix\n",
    "        cov_matrix = np.dot(self.X_centred.T, self.X_centred) / (X.shape[0] - 1)\n",
    "    \n",
    "        # Calculate the eigenvalues and the eigenvectors of the covariance matrix\n",
    "        self.eigenvalues, self.eigenvectors = np.linalg.eig(cov_matrix)\n",
    "        \n",
    "        # Sort the eigenvalues and eigenvectors by the eigenvalue in decreasing order\n",
    "        idx = self.eigenvalues.argsort()[::-1]\n",
    "        self.eigenvalues = self.eigenvalues[idx]\n",
    "        self.eigenvectors = self.eigenvectors[:, idx]\n",
    "    \n",
    "        # Calculate the explained variance ratio for the principal components\n",
    "        self.explained_variance_ratio = self.eigenvalues / np.sum(self.eigenvalues)\n",
    "        \n",
    "        # Transform the dataset using the eigenvectors\n",
    "        self.X_new = np.dot(self.X_centred, self.eigenvectors[:, :self.n_components])\n",
    "\n",
    "        return self.X_new\n"
   ]
  },
  {
   "cell_type": "markdown",
   "id": "e8462463f3de0378",
   "metadata": {
    "jupyter": {
     "outputs_hidden": false
    }
   },
   "source": [
    "### b) Compare your results with the scikit-learn PCA implementation. (3 points)"
   ]
  },
  {
   "cell_type": "code",
   "execution_count": 4,
   "id": "39d4b34e-7698-4887-83f8-0accbc741db3",
   "metadata": {},
   "outputs": [],
   "source": [
    "# here is a sample dataset you could use\n",
    "rng = np.random.default_rng(seed=123)\n",
    "X = rng.multivariate_normal(mean=(2, 1), cov=[[2.5, 0.6], [0.6, 0.8]], size=100)"
   ]
  },
  {
   "cell_type": "code",
   "execution_count": 5,
   "id": "dca02b3854f60cf4",
   "metadata": {
    "jupyter": {
     "outputs_hidden": false
    }
   },
   "outputs": [
    {
     "name": "stdout",
     "output_type": "stream",
     "text": [
      "Explained variance ratio (scratch): [0.78904207 0.21095793]\n",
      "Explained variance ratio (sklearn): [0.78904207 0.21095793]\n",
      "Eigenvectors (scratch):\n",
      " [[ 0.93416707 -0.35683594]\n",
      " [ 0.35683594  0.93416707]]\n",
      "Eigenvectors (sklearn):\n",
      " [[ 0.93416707  0.35683594]\n",
      " [ 0.35683594 -0.93416707]]\n",
      "Eigenvalues (scratch): [2.02881639 0.54242342]\n",
      "Eigenvalues (sklearn): [2.02881639 0.54242342]\n"
     ]
    }
   ],
   "source": [
    "from sklearn.decomposition import PCA\n",
    "\n",
    "# PCA implementation\n",
    "pca_scratch = PCA_from_scratch(n_components=2)\n",
    "X_new_scratch = pca_scratch.fit_transform(X)\n",
    "\n",
    "# scikit-learn PCA implementation\n",
    "pca_sklearn = PCA(n_components=2)\n",
    "X_new_sklearn = pca_sklearn.fit_transform(X)\n",
    "\n",
    "# Compare the results\n",
    "print(\"Explained variance ratio (scratch):\", pca_scratch.explained_variance_ratio)\n",
    "print(\"Explained variance ratio (sklearn):\", pca_sklearn.explained_variance_ratio_)\n",
    "\n",
    "print(\"Eigenvectors (scratch):\\n\", pca_scratch.eigenvectors)\n",
    "print(\"Eigenvectors (sklearn):\\n\", pca_sklearn.components_.T)\n",
    "\n",
    "print(\"Eigenvalues (scratch):\", pca_scratch.eigenvalues)\n",
    "print(\"Eigenvalues (sklearn):\", pca_sklearn.explained_variance_)\n"
   ]
  },
  {
   "cell_type": "markdown",
   "id": "722bcd55-7896-4a94-b13d-7b5d850b5a3f",
   "metadata": {},
   "source": [
    "## 2.2 Theory Questions (6 points)\n",
    "### Answer the following questions in 2-3 sentences:"
   ]
  },
  {
   "cell_type": "markdown",
   "id": "aa20c29c-b898-4ce8-beac-314115834079",
   "metadata": {},
   "source": [
    "### a) Are there multiple correct results when doing PCA on a dataset or is there only one unique way? Explain your answer. (3 points)"
   ]
  },
  {
   "cell_type": "markdown",
   "id": "5abd1556-f2dc-4a7f-a405-aa233ea44ee5",
   "metadata": {},
   "source": [
    "Up to the eigenvectors' sign, Principal Component Analysis (PCA) has a unique solution. The eigenvectors can have either direction, which means that their signs can be inverted. On the other hand, given a dataset, the principal component order and the eigenvectors' absolute values are distinct. This is so because the eigenvectors of the dataset's covariance matrix, which are exclusively determined by the data, are the principal components. As a result, even though the eigenvectors' signs might change, PCA's overall findings—which involve projecting the data onto the principal components—are distinct."
   ]
  },
  {
   "cell_type": "markdown",
   "id": "65626d3d-48ad-404e-af10-c9d1fb390d73",
   "metadata": {},
   "source": [
    "### b) As discussed in the lecture, the principal components are always orthogonal to eachother. Explain briefly why the vectors you got are orthogonal. (You do not need to prove it mathematically.) (3 points)\n"
   ]
  },
  {
   "cell_type": "markdown",
   "id": "a061d31e-c5e1-46fe-9f23-f41997088f67",
   "metadata": {},
   "source": [
    "Since the principal components are the eigenvectors of the symmetric covariance matrix, they are orthogonal to one another. The eigenvectors of symmetric matrices that correspond to distinct eigenvalues are orthogonal to one another. This characteristic makes sure that the main components extract various kinds of information from the data. Put another way, a representation of the data that minimizes redundancy is made possible by each principal component capturing a direction in the data that is uncorrelated (orthogonal) to the directions captured by the other components. One important characteristic that makes PCA a helpful method for dimensionality reduction is its orthogonality."
   ]
  },
  {
   "cell_type": "markdown",
   "id": "83fd9639-1a42-40d8-b04d-d711ae323bb1",
   "metadata": {},
   "source": [
    "## 2.3 Using More Dimensions (9.5 points)\n",
    "### a) Reduce the dimensionality of the Iris dataset using your PCA implementation and create a scatter plot of the results. (5.5 points)\n",
    "- Use the first two Principal Components to create a scatterplot.\n",
    "- Colour the points by their corresponding Type label.\n",
    "- Add a title and axis names to the plot.\n",
    "  \n",
    "(If you did not solve task 2.1, you may use the PCA implementation of scikit-learn instead for less points.)"
   ]
  },
  {
   "cell_type": "code",
   "execution_count": 6,
   "id": "073e069b-86d4-4c84-80ac-59486271f8d7",
   "metadata": {},
   "outputs": [],
   "source": [
    "from sklearn import datasets\n",
    "iris = datasets.load_iris()\n",
    "\n",
    "iris_data = iris.data\n",
    "iris_labels = iris.target"
   ]
  },
  {
   "cell_type": "code",
   "execution_count": 6,
   "id": "c46fc1a2-11ad-41f8-8175-35184b5f0568",
   "metadata": {},
   "outputs": [
    {
     "ename": "NameError",
     "evalue": "name 'iris_data' is not defined",
     "output_type": "error",
     "traceback": [
      "\u001b[1;31m---------------------------------------------------------------------------\u001b[0m",
      "\u001b[1;31mNameError\u001b[0m                                 Traceback (most recent call last)",
      "Cell \u001b[1;32mIn[6], line 5\u001b[0m\n\u001b[0;32m      3\u001b[0m \u001b[38;5;66;03m# PCA implementation\u001b[39;00m\n\u001b[0;32m      4\u001b[0m pca_scratch \u001b[38;5;241m=\u001b[39m PCA_from_scratch(n_components\u001b[38;5;241m=\u001b[39m\u001b[38;5;241m2\u001b[39m)\n\u001b[1;32m----> 5\u001b[0m iris_data_new \u001b[38;5;241m=\u001b[39m pca_scratch\u001b[38;5;241m.\u001b[39mfit_transform(iris_data)\n\u001b[0;32m      7\u001b[0m \u001b[38;5;66;03m# Creating a scatter plot\u001b[39;00m\n\u001b[0;32m      8\u001b[0m plt\u001b[38;5;241m.\u001b[39mfigure(figsize\u001b[38;5;241m=\u001b[39m(\u001b[38;5;241m8\u001b[39m, \u001b[38;5;241m6\u001b[39m))\n",
      "\u001b[1;31mNameError\u001b[0m: name 'iris_data' is not defined"
     ]
    }
   ],
   "source": [
    "import matplotlib.pyplot as plt\n",
    "\n",
    "# PCA implementation\n",
    "pca_scratch = PCA_from_scratch(n_components=2)\n",
    "iris_data_new = pca_scratch.fit_transform(iris_data)\n",
    "\n",
    "# Creating a scatter plot\n",
    "plt.figure(figsize=(8, 6))\n",
    "scatter = plt.scatter(iris_data_new[:, 0], iris_data_new[:, 1], c=iris_labels)\n",
    "plt.title('PCA of Iris Dataset')\n",
    "plt.xlabel('First Principal Component')\n",
    "plt.ylabel('Second Principal Component')\n",
    "\n",
    "# Add color \n",
    "plt.colorbar(scatter, ticks=[0, 1, 2], label='Type')\n",
    "\n",
    "plt.show()\n"
   ]
  },
  {
   "cell_type": "markdown",
   "id": "58e29faa-d1b6-4b19-9be3-b5aec13e6269",
   "metadata": {},
   "source": [
    "### b) Run PCA on the Iris dataset with n_components=4 and create a scree plot for the the explained variance ratios. (4 points)\n",
    "\n",
    "(If you did not solve task 2.1, you may use the PCA implementation of scikit-learn instead for less points.)"
   ]
  },
  {
   "cell_type": "code",
   "execution_count": 8,
   "id": "2be2b8bd-8109-4274-bfca-3aff8b9b4657",
   "metadata": {},
   "outputs": [
    {
     "data": {
      "image/png": "[encoded data removed]",
      "text/plain": [
       "<Figure size 800x600 with 1 Axes>"
      ]
     },
     "metadata": {},
     "output_type": "display_data"
    }
   ],
   "source": [
    "#  PCA implementation\n",
    "pca_scratch = PCA_from_scratch(n_components=4)\n",
    "iris_data_new = pca_scratch.fit_transform(iris_data)\n",
    "\n",
    "# Creating a scree plot for the explained variance ratios\n",
    "plt.figure(figsize=(8, 6))\n",
    "plt.plot(range(1, 5), pca_scratch.explained_variance_ratio, 'o-')\n",
    "plt.title('Scree Plot')\n",
    "plt.xlabel('Principal Component')\n",
    "plt.ylabel('Explained Variance Ratio')\n",
    "plt.xticks(range(1, 5))\n",
    "plt.show()\n"
   ]
  },
  {
   "cell_type": "code",
   "execution_count": null,
   "id": "6a55b08a",
   "metadata": {},
   "outputs": [],
   "source": []
  }
 ],
 "metadata": {
  "kernelspec": {
   "display_name": "Python 3 (ipykernel)",
   "language": "python",
   "name": "python3"
  },
  "language_info": {
   "codemirror_mode": {
    "name": "ipython",
    "version": 3
   },
   "file_extension": ".py",
   "mimetype": "text/x-python",
   "name": "python",
   "nbconvert_exporter": "python",
   "pygments_lexer": "ipython3",
   "version": "3.11.5"
  }
 },
 "nbformat": 4,
 "nbformat_minor": 5
}
